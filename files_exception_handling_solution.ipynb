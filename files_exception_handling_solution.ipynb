{
 "cells": [
  {
   "cell_type": "markdown",
   "id": "dfc6d61e-bd4a-408d-8abe-045e9d15fbc3",
   "metadata": {},
   "source": [
    "# Theory Questions"
   ]
  },
  {
   "cell_type": "markdown",
   "id": "03a31295-f1c0-4c04-a912-37e2089908b9",
   "metadata": {},
   "source": [
    "### 1. Difference Between Interpreted and Compiled Languages\n",
    "##### A compiled language requires the source code to be translated into machine code before execution. This translation is done by a compiler, which generates an executable file. Examples include C, C++, and Rust. Since the translation happens beforehand, compiled programs typically run faster.\n",
    "\n",
    "###### An interpreted language, on the other hand, executes the source code line by line using an interpreter. This means there is no separate compilation step, but execution is usually slower because the translation happens at runtime. Examples include Python, JavaScript, and Ruby.\n",
    "\n",
    "Some languages, like Java, use a hybrid approach: Java code is compiled into bytecode and then interpreted by the Java Virtual Machine (JVM).\n",
    "\n"
   ]
  },
  {
   "cell_type": "markdown",
   "id": "d36f21d5-0dab-4ed6-922e-c27da93720ad",
   "metadata": {},
   "source": [
    "### 2. What is Exception Handling in Python?\n",
    "Exception handling is a mechanism that allows programs to detect and respond to errors (exceptions) during execution. Without exception handling, an error would cause the program to crash.\n",
    "\n",
    "Python provides several keywords for handling exceptions:\n",
    "\n",
    "try: Wraps code that may raise an exception.\n",
    "except: Specifies how to handle exceptions.\n",
    "else: Runs if no exceptions occur.\n",
    "finally: Always executes, regardless of whether an exception was raised."
   ]
  },
  {
   "cell_type": "markdown",
   "id": "a648c72e-8cf9-4b2f-9a25-230b4e267064",
   "metadata": {},
   "source": [
    "### 3. Purpose of the finally Block in Exception Handling\n",
    "The finally block ensures that certain cleanup actions occur, no matter what happens in the try block. It is useful for closing resources like files or network connections.\n"
   ]
  },
  {
   "cell_type": "markdown",
   "id": "108da252-1f2c-4bc1-b161-cc759bcf217a",
   "metadata": {},
   "source": [
    "### 4 What is Logging in Python?\n",
    "Logging allows developers to track events in a program, record errors, and analyze program execution. The logging module provides different levels of severity:\n",
    "\n",
    "###### DEBUG: Detailed diagnostic information.\n",
    "###### INFO: General information about program execution.\n",
    "###### WARNING: An indication of possible issues.\n",
    "###### ERROR: A serious error that prevents some part of the program from working.\n",
    "###### CRITICAL: A severe error that requires immediate attention.\n"
   ]
  },
  {
   "cell_type": "markdown",
   "id": "b58f6f2f-0d0c-480f-a874-b99f007f47df",
   "metadata": {},
   "source": [
    "### 5. Significance of the __del__ Method in Python\n",
    "The __del__ method is a destructor in Python that is called when an object is about to be destroyed (garbage collected).\n"
   ]
  },
  {
   "cell_type": "markdown",
   "id": "c90a0bd9-7870-42de-82b3-3fe85227a54f",
   "metadata": {},
   "source": [
    "### 6.Difference Between import and from ... import\n",
    "###### import module: Imports the entire module, and you need to use module.function().\n",
    "###### from module import function: Imports specific functions, so you can use them directly."
   ]
  },
  {
   "cell_type": "markdown",
   "id": "9f7dc832-e7f4-4848-885c-a2835e531d80",
   "metadata": {},
   "source": [
    "### 7. Handling Multiple Exceptions in Python\n",
    "Python allows handling multiple exceptions using separate except blocks or by grouping exceptions in a tuple.\n"
   ]
  },
  {
   "cell_type": "markdown",
   "id": "7b0d866a-dc10-400d-b325-4682e385745e",
   "metadata": {},
   "source": [
    "### 8. Purpose of the with Statement in File Handling\n",
    "The with statement automatically closes a file after its block of code is executed, even if an error occurs.\n"
   ]
  },
  {
   "cell_type": "markdown",
   "id": "a35ecab1-38ff-44fa-a03c-4847edb34895",
   "metadata": {},
   "source": [
    "### 9. Difference Between Multithreading and Multiprocessing\n",
    "##### Multithreading: Runs multiple threads within the same process. Best for I/O-bound tasks.\n",
    "##### Multiprocessing: Runs multiple processes. Best for CPU-bound tasks because it bypasses the Global Interpreter Lock (GIL).\n"
   ]
  },
  {
   "cell_type": "markdown",
   "id": "ec502e63-0ee6-4db8-8c29-9d13581fc6d2",
   "metadata": {},
   "source": [
    "### 10. Advantages of Using Logging\n",
    "Helps debug issues\n",
    "Keeps track of events\n",
    "Can store logs in files for future analysis\n"
   ]
  },
  {
   "cell_type": "markdown",
   "id": "2a59e619-c892-4850-a2bd-cb7a0187e2da",
   "metadata": {},
   "source": [
    "### 11. What is Memory Management in Python?\n",
    "Python manages memory using:\n",
    "\n",
    "Reference Counting: An object is deleted when no references remain.\n",
    "Garbage Collection: Detects and removes circular references.\n"
   ]
  },
  {
   "cell_type": "markdown",
   "id": "50cd19ce-779a-4dab-a276-40b05dfc3d7d",
   "metadata": {},
   "source": [
    "### 12. Basic Steps in Exception Handling\n",
    "Use try to wrap risky code.\n",
    "Use except to catch exceptions.\n",
    "Use else for code that runs if no exception occurs.\n",
    "Use finally for cleanup code.\n"
   ]
  },
  {
   "cell_type": "markdown",
   "id": "dfee6ffa-fb69-42ee-bc50-f6883a9bf412",
   "metadata": {},
   "source": [
    "### 13. Importance of Memory Management in Python\n",
    "Efficient memory management ensures:\n",
    "\n",
    "No memory leaks\n",
    "Faster execution\n",
    "Optimal use of system resources\n"
   ]
  },
  {
   "cell_type": "markdown",
   "id": "eef5c36e-003f-4ed1-862f-1572d487202d",
   "metadata": {},
   "source": [
    "### 14. Role of try and except in Exception Handling\n",
    "try: Contains code that might raise an exception.\n",
    "except: Defines what to do if an exception occurs."
   ]
  },
  {
   "cell_type": "markdown",
   "id": "5e6f754b-308f-4a87-98f4-5a4e4e333a10",
   "metadata": {},
   "source": [
    "### 15. How Python's Garbage Collection Works\n",
    "Python uses:\n",
    "\n",
    "Reference counting: Deletes objects with no references.\n",
    "Generational garbage collection: Optimizes object deletion."
   ]
  },
  {
   "cell_type": "markdown",
   "id": "7744690d-af72-4ece-a7e9-8ba8edb23f23",
   "metadata": {},
   "source": [
    "### 16. Purpose of else Block in Exception Handling\n",
    "Runs if no exception occurs in try."
   ]
  },
  {
   "cell_type": "markdown",
   "id": "e3353bd7-429c-4ec2-b1b1-72b9ac9123b1",
   "metadata": {},
   "source": [
    "### 17. Common Logging Levels in Python\n",
    "##### DEBUG\n",
    "##### INFO\n",
    "##### WARNING\n",
    "##### ERROR\n",
    "##### CRITICAL\n"
   ]
  },
  {
   "cell_type": "markdown",
   "id": "685ec20a-12c2-43e2-9c5d-ac04cd4cccdf",
   "metadata": {},
   "source": [
    "### 18. Difference Between os.fork() and multiprocessing\n",
    "os.fork(): Creates a new process (Unix/Linux only).\n",
    "multiprocessing: Cross-platform module for process creation."
   ]
  },
  {
   "cell_type": "markdown",
   "id": "71667d80-da08-4671-b9ad-4e643e6f42d8",
   "metadata": {},
   "source": [
    "### 19. Importance of Closing a File in Python\n",
    "Prevents memory leaks\n",
    "Ensures data is saved properly"
   ]
  },
  {
   "cell_type": "markdown",
   "id": "e8b5d1d2-5958-422f-99a0-0d5ded29b44f",
   "metadata": {},
   "source": [
    "### 20. Difference Between file.read() and file.readline()\n",
    "file.read(): Reads the entire file.\n",
    "file.readline(): Reads one line at a time."
   ]
  },
  {
   "cell_type": "markdown",
   "id": "bfebdaa3-d20a-429c-9987-6a34d9cd9897",
   "metadata": {},
   "source": [
    "### 21. Purpose of Logging Module in Python\n",
    "The logging module records events, errors, and execution details for debugging and monitoring."
   ]
  },
  {
   "cell_type": "markdown",
   "id": "f8e1e87e-df98-43d6-80fc-b73dad1a4923",
   "metadata": {},
   "source": [
    "### 22. What is the os Module in Python Used for in File Handling?\n",
    "The os module in Python provides functions to interact with the operating system, allowing users to work with files and directories efficiently. Some key file-handling operations include:"
   ]
  },
  {
   "cell_type": "markdown",
   "id": "f4000d11-9504-4737-b9dc-6009ceebcccd",
   "metadata": {},
   "source": [
    "### 23. What Are the Challenges Associated with Memory Management in Python?\n",
    "Python has an automatic memory management system, but it still faces several challenges:\n",
    "\n",
    "###### 1. Garbage Collection Overhead\n",
    "Python uses automatic garbage collection, which sometimes consumes processing power, slowing down applications.\n",
    "\n",
    "###### 2. Reference Cycles (Circular References)\n",
    "Python’s garbage collector struggles with objects that reference each other. "
   ]
  },
  {
   "cell_type": "markdown",
   "id": "5cc40fd9-ee73-450c-b828-67229d59f573",
   "metadata": {},
   "source": [
    "### 24. How Do You Raise an Exception Manually in Python?\n",
    "In Python, you can manually raise exceptions using the raise keyword. This is useful for enforcing constraints or stopping execution when an error condition is met."
   ]
  },
  {
   "cell_type": "markdown",
   "id": "8b3f1ab7-bd95-444f-a6b8-71c4d7b8216e",
   "metadata": {
    "jp-MarkdownHeadingCollapsed": true
   },
   "source": [
    "### 25. Why Is It Important to Use Multithreading in Certain Applications?\n",
    "Multithreading allows multiple parts of a program to execute concurrently, improving performance in specific scenarios.\n",
    "\n",
    "Key Benefits of Multithreading\n",
    "###### Better Utilization of CPU Resources\n",
    "\n",
    "If a program spends time waiting for I/O operations (e.g., file reading, network requests), multithreading allows other tasks to execute during that wait.\n",
    "###### Improves Responsiveness\n",
    "In GUI applications, multithreading prevents the interface from freezing while a long task runs.\n",
    "\n",
    "###### Efficient Handling of I/O-Bound Tasks\n",
    "Web scraping, network requests, and file operations benefit from threading.\n",
    "\n",
    "###### Concurrency in Real-Time Applications\n",
    "Games, simulations, and stock trading platforms use multithreading for real-time processing."
   ]
  },
  {
   "cell_type": "markdown",
   "id": "e9052567-907d-4b75-ac8a-acf283f5bbeb",
   "metadata": {},
   "source": [
    "# Practicals Questions"
   ]
  },
  {
   "cell_type": "code",
   "execution_count": 2,
   "id": "fc5f1c9e-4376-4216-b2b3-acc603c6c66c",
   "metadata": {},
   "outputs": [
    {
     "data": {
      "text/plain": [
       "29"
      ]
     },
     "execution_count": 2,
     "metadata": {},
     "output_type": "execute_result"
    }
   ],
   "source": [
    "## 1. How Can You Open a File for Writing in Python and Write a String to It?\n",
    "file=open(\"example.txt\", \"w\") \n",
    "file.write(\"Hello, this is a test string!\")"
   ]
  },
  {
   "cell_type": "code",
   "execution_count": 4,
   "id": "f893f791-2100-4e21-b032-6200aa508a0b",
   "metadata": {},
   "outputs": [
    {
     "name": "stdout",
     "output_type": "stream",
     "text": [
      "Hello, this is a test string!\n"
     ]
    }
   ],
   "source": [
    "#2. Write a Python Program to Read the Contents of a File and Print Each Line\n",
    "file=open(\"example.txt\", \"r\")\n",
    "for line in file:\n",
    "    print(line.strip())  "
   ]
  },
  {
   "cell_type": "code",
   "execution_count": 6,
   "id": "514aceb8-4445-4f47-886d-0bc24babcfa5",
   "metadata": {},
   "outputs": [
    {
     "name": "stdout",
     "output_type": "stream",
     "text": [
      "Error: The file does not exist.\n"
     ]
    }
   ],
   "source": [
    "# 3.How Would You Handle a Case Where the File Doesn't Exist While Trying to Open It for Reading?\n",
    "try:\n",
    "    with open(\"non_existent.txt\", \"r\") as file:\n",
    "        content = file.read()\n",
    "except FileNotFoundError:\n",
    "    print(\"Error: The file does not exist.\")"
   ]
  },
  {
   "cell_type": "code",
   "execution_count": 15,
   "id": "585728d7-fda0-468b-9f21-ba9483e009ce",
   "metadata": {},
   "outputs": [],
   "source": [
    "#4. Write a Python Script That Reads from One File and Writes Its Content to Another File\n",
    "src = open(\"source.txt\", \"r\")\n",
    "dest = open(\"destination.txt\", \"w\")\n",
    "\n",
    "dest.write(src.read())\n",
    "\n",
    "src.close()\n",
    "dest.close()\n"
   ]
  },
  {
   "cell_type": "code",
   "execution_count": 16,
   "id": "6f254c34-29d2-4281-8e35-7c59564c9be5",
   "metadata": {},
   "outputs": [
    {
     "name": "stdout",
     "output_type": "stream",
     "text": [
      "Error: Division by zero is not allowed.\n"
     ]
    }
   ],
   "source": [
    "#5. How Would You Catch and Handle Division by Zero Error in Python?\n",
    "try:\n",
    "    result = 10 / 0\n",
    "except ZeroDivisionError:\n",
    "    print(\"Error: Division by zero is not allowed.\")"
   ]
  },
  {
   "cell_type": "code",
   "execution_count": 17,
   "id": "06c5ceb1-f46b-4d82-8ceb-af4800bc7333",
   "metadata": {},
   "outputs": [],
   "source": [
    "#6. Write a Python Program That Logs an Error Message to a Log File When a Division by Zero Exception Occurs\n",
    "import logging\n",
    "\n",
    "logging.basicConfig(filename=\"error.log\", level=logging.ERROR)\n",
    "\n",
    "try:\n",
    "    result = 10 / 0\n",
    "except ZeroDivisionError as e:\n",
    "    logging.error(f\"Division by zero error occurred: {e}\")"
   ]
  },
  {
   "cell_type": "code",
   "execution_count": 18,
   "id": "d9073317-5bba-40a6-8c38-f3b6ad767ce0",
   "metadata": {},
   "outputs": [],
   "source": [
    "#7. How Do You Log Information at Different Levels in Python?\n",
    "import logging\n",
    "\n",
    "logging.basicConfig(level=logging.DEBUG)\n",
    "logging.debug(\"This is a debug message\")\n",
    "logging.info(\"This is an info message\")\n",
    "logging.warning(\"This is a warning\")\n",
    "logging.error(\"This is an error message\")\n",
    "logging.critical(\"This is a critical error\")"
   ]
  },
  {
   "cell_type": "code",
   "execution_count": 19,
   "id": "d0851727-c291-46f8-b239-e7613fc36178",
   "metadata": {},
   "outputs": [
    {
     "name": "stdout",
     "output_type": "stream",
     "text": [
      "File not found. Please check the file path.\n"
     ]
    }
   ],
   "source": [
    "#8. Write a Program to Handle a File Opening Error Using Exception Handling\n",
    "try:\n",
    "    with open(\"non_existent.txt\", \"r\") as file:\n",
    "        content = file.read()\n",
    "except FileNotFoundError:\n",
    "    print(\"File not found. Please check the file path.\")\n"
   ]
  },
  {
   "cell_type": "code",
   "execution_count": 20,
   "id": "7d998240-626b-4cc1-a996-addfe3fa3985",
   "metadata": {},
   "outputs": [
    {
     "name": "stdout",
     "output_type": "stream",
     "text": [
      "['Hello, this is a test string!']\n"
     ]
    }
   ],
   "source": [
    "#9. How Can You Read a File Line by Line and Store Its Content in a List?\n",
    "with open(\"example.txt\", \"r\") as file:\n",
    "    lines = file.readlines()\n",
    "print(lines)"
   ]
  },
  {
   "cell_type": "code",
   "execution_count": 21,
   "id": "4e02bbd3-2618-4eaf-aa77-cea60e0e02e3",
   "metadata": {},
   "outputs": [],
   "source": [
    "#10. How Can You Append Data to an Existing File?\n",
    "with open(\"example.txt\", \"a\") as file:\n",
    "    file.write(\"\\nNew line added.\")\n"
   ]
  },
  {
   "cell_type": "code",
   "execution_count": 22,
   "id": "52de9e7a-c3c3-4470-94cf-56e9154643d9",
   "metadata": {},
   "outputs": [
    {
     "name": "stdout",
     "output_type": "stream",
     "text": [
      "Key not found in dictionary.\n"
     ]
    }
   ],
   "source": [
    "#11. Write a Python Program That Handles an Error When Attempting to Access a Non-Existing Dictionary Key\n",
    "try:\n",
    "    my_dict = {\"name\": \"Alice\"}\n",
    "    print(my_dict[\"age\"])  # Key does not exist\n",
    "except KeyError:\n",
    "    print(\"Key not found in dictionary.\")"
   ]
  },
  {
   "cell_type": "code",
   "execution_count": 23,
   "id": "4d8c543d-3021-43af-8ca9-d4ba7c8073b0",
   "metadata": {},
   "outputs": [
    {
     "name": "stdout",
     "output_type": "stream",
     "text": [
      "Error: Cannot divide by zero.\n"
     ]
    }
   ],
   "source": [
    "#12. Write a Program That Demonstrates Using Multiple Except Blocks for Different Exceptions\n",
    "try:\n",
    "    x = 10 / 0\n",
    "except ZeroDivisionError:\n",
    "    print(\"Error: Cannot divide by zero.\")\n",
    "except TypeError:\n",
    "    print(\"Error: Type mismatch.\")\n",
    "except Exception as e:\n",
    "    print(f\"Unexpected error: {e}\")"
   ]
  },
  {
   "cell_type": "code",
   "execution_count": 24,
   "id": "fae85cb5-552f-4b8e-92a4-06e8b17fbce5",
   "metadata": {},
   "outputs": [
    {
     "name": "stdout",
     "output_type": "stream",
     "text": [
      "Hello, this is a test string!\n",
      "New line added.\n"
     ]
    }
   ],
   "source": [
    "#13. How Would You Check if a File Exists Before Attempting to Read It?\n",
    "import os\n",
    "\n",
    "if os.path.exists(\"example.txt\"):\n",
    "    with open(\"example.txt\", \"r\") as file:\n",
    "        print(file.read())\n",
    "else:\n",
    "    print(\"File does not exist.\")"
   ]
  },
  {
   "cell_type": "code",
   "execution_count": 25,
   "id": "42f3d1fd-bbdc-4a6d-9170-42d5cd772157",
   "metadata": {},
   "outputs": [],
   "source": [
    "#14. Write a Program That Uses the Logging Module to Log Both Informational and Error Messages\n",
    "import logging\n",
    "\n",
    "logging.basicConfig(filename=\"app.log\", level=logging.INFO)\n",
    "logging.info(\"This is an informational message\")\n",
    "logging.error(\"This is an error message\")"
   ]
  },
  {
   "cell_type": "code",
   "execution_count": 26,
   "id": "64c3c4b8-2cf0-4fe1-a29b-da46a67f2b47",
   "metadata": {},
   "outputs": [
    {
     "name": "stdout",
     "output_type": "stream",
     "text": [
      "Hello, this is a test string!\n",
      "New line added.\n"
     ]
    }
   ],
   "source": [
    "#15. Write a Python Program That Prints the Content of a File and Handles the Case When the File Is Empty\n",
    "with open(\"example.txt\", \"r\") as file:\n",
    "    content = file.read()\n",
    "    if not content:\n",
    "        print(\"The file is empty.\")\n",
    "    else:\n",
    "        print(content)"
   ]
  },
  {
   "cell_type": "code",
   "execution_count": null,
   "id": "481075c1-050c-4981-b196-a4ff37975b5c",
   "metadata": {},
   "outputs": [],
   "source": [
    "#16. Demonstrate How to Use Memory Profiling to Check the Memory Usage of a Small Program\n",
    "from memory_profiler import profile\n",
    "@profile\n",
    "def my_function():\n",
    "    numbers = [i for i in range(100000)]\n",
    "    return sum(numbers)\n",
    "\n",
    "my_function()"
   ]
  },
  {
   "cell_type": "code",
   "execution_count": 28,
   "id": "9862fcfa-afb4-45fe-a290-376516e2430b",
   "metadata": {},
   "outputs": [],
   "source": [
    "#17. Write a Python Program to Create and Write a List of Numbers to a File, One Number per Line\n",
    "numbers = [1, 2, 3, 4, 5]\n",
    "with open(\"numbers.txt\", \"w\") as file:\n",
    "    for num in numbers:\n",
    "        file.write(f\"{num}\\n\")"
   ]
  },
  {
   "cell_type": "code",
   "execution_count": 29,
   "id": "7f40aa8a-a15f-492f-b763-8c3057f73696",
   "metadata": {},
   "outputs": [],
   "source": [
    "#18. How Would You Implement a Basic Logging Setup That Logs to a File with Rotation After 1MB?\n",
    "import logging\n",
    "from logging.handlers import RotatingFileHandler\n",
    "\n",
    "handler = RotatingFileHandler(\"app.log\", maxBytes=1024*1024, backupCount=5)\n",
    "logging.basicConfig(handlers=[handler], level=logging.INFO)\n",
    "logging.info(\"This is a log message.\")"
   ]
  },
  {
   "cell_type": "code",
   "execution_count": 30,
   "id": "367acdd4-f2fe-4368-9edf-bf13c9b412fb",
   "metadata": {},
   "outputs": [
    {
     "name": "stdout",
     "output_type": "stream",
     "text": [
      "Error: List index out of range.\n",
      "Error: Key not found in dictionary.\n"
     ]
    }
   ],
   "source": [
    "#19. Write a Program That Handles Both IndexError and KeyError Using a Try-Except Block\n",
    "try:\n",
    "    my_list = [1, 2, 3]\n",
    "    print(my_list[5])  # IndexError\n",
    "except IndexError:\n",
    "    print(\"Error: List index out of range.\")\n",
    "\n",
    "try:\n",
    "    my_dict = {\"name\": \"Alice\"}\n",
    "    print(my_dict[\"age\"])  # KeyError\n",
    "except KeyError:\n",
    "    print(\"Error: Key not found in dictionary.\")\n"
   ]
  },
  {
   "cell_type": "code",
   "execution_count": 31,
   "id": "ae325ea6-0533-4603-958b-e162fe6b7e2a",
   "metadata": {},
   "outputs": [
    {
     "name": "stdout",
     "output_type": "stream",
     "text": [
      "Hello, this is a test string!\n",
      "New line added.\n"
     ]
    }
   ],
   "source": [
    "#20. How Would You Open a File and Read Its Contents Using a Context Manager?\n",
    "with open(\"example.txt\", \"r\") as file:\n",
    "    content = file.read()\n",
    "print(content)"
   ]
  },
  {
   "cell_type": "code",
   "execution_count": 32,
   "id": "12e3af37-6085-4891-9718-3ca3e50f0a80",
   "metadata": {},
   "outputs": [
    {
     "name": "stdout",
     "output_type": "stream",
     "text": [
      "The word 'hello' appears 0 times.\n"
     ]
    }
   ],
   "source": [
    "#21. Write a Python Program That Reads a File and Prints the Number of Occurrences of a Specific Word\n",
    "word_to_count = \"hello\"\n",
    "\n",
    "with open(\"example.txt\", \"r\") as file:\n",
    "    content = file.read()\n",
    "    word_count = content.lower().split().count(word_to_count)\n",
    "\n",
    "print(f\"The word '{word_to_count}' appears {word_count} times.\")\n"
   ]
  },
  {
   "cell_type": "code",
   "execution_count": 33,
   "id": "672b9066-4c8b-4aa3-ac61-b49de558a2fb",
   "metadata": {},
   "outputs": [
    {
     "name": "stdout",
     "output_type": "stream",
     "text": [
      "Hello, this is a test string!\n",
      "New line added.\n"
     ]
    }
   ],
   "source": [
    "#22. How Can You Check if a File Is Empty Before Attempting to Read Its Contents?\n",
    "import os\n",
    "\n",
    "if os.path.exists(\"example.txt\") and os.stat(\"example.txt\").st_size == 0:\n",
    "    print(\"The file is empty.\")\n",
    "else:\n",
    "    with open(\"example.txt\", \"r\") as file:\n",
    "        print(file.read())"
   ]
  },
  {
   "cell_type": "code",
   "execution_count": 34,
   "id": "a2140672-7e4d-4f9b-a946-ef6d03eea861",
   "metadata": {},
   "outputs": [],
   "source": [
    "#23. Write a Python Program That Writes to a Log File When an Error Occurs During File Handling\n",
    "import logging\n",
    "\n",
    "logging.basicConfig(filename=\"file_error.log\", level=logging.ERROR)\n",
    "\n",
    "try:\n",
    "    with open(\"nonexistent.txt\", \"r\") as file:\n",
    "        content = file.read()\n",
    "except FileNotFoundError as e:\n",
    "    logging.error(f\"File error: {e}\")"
   ]
  }
 ],
 "metadata": {
  "kernelspec": {
   "display_name": "Python 3 (ipykernel)",
   "language": "python",
   "name": "python3"
  },
  "language_info": {
   "codemirror_mode": {
    "name": "ipython",
    "version": 3
   },
   "file_extension": ".py",
   "mimetype": "text/x-python",
   "name": "python",
   "nbconvert_exporter": "python",
   "pygments_lexer": "ipython3",
   "version": "3.12.6"
  }
 },
 "nbformat": 4,
 "nbformat_minor": 5
}
